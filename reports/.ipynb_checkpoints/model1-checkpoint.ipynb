{
 "cells": [
  {
   "cell_type": "markdown",
   "metadata": {},
   "source": [
    "# Logistic regression model\n",
    "\n",
    "The following notebook describes the creation of a logistic regression model for the classification of german traffic signs, using scikit-learn. "
   ]
  },
  {
   "cell_type": "code",
   "execution_count": 4,
   "metadata": {},
   "outputs": [],
   "source": [
    "# Load libraries\n",
    "from sklearn.metrics import accuracy_score\n",
    "from sklearn.linear_model import LogisticRegression\n",
    "from PIL import Image\n",
    "import glob\n",
    "import inspect\n",
    "import numpy as np\n",
    "import os\n",
    "import pickle\n"
   ]
  },
  {
   "cell_type": "code",
   "execution_count": 5,
   "metadata": {},
   "outputs": [],
   "source": [
    "# Location of the train and test images\n",
    "current_dir = os.path.dirname(os.path.abspath(inspect.getfile(inspect.currentframe())))\n",
    "ruta_train = os.sep.join([current_dir,'..','images','train'])\n",
    "ruta_test = os.sep.join([current_dir,'..','images','test'])\n"
   ]
  },
  {
   "cell_type": "code",
   "execution_count": 6,
   "metadata": {},
   "outputs": [],
   "source": [
    "# Load train and test images\n",
    "\n",
    "train_images = []\n",
    "test_images = []\n",
    "\n",
    "y_train = []\n",
    "y_test = []\n",
    "\n",
    "for filename in glob.iglob(ruta_train + os.sep + '*.ppm'):\n",
    "    label = int(filename.split(os.sep)[-1].split('_')[0])\n",
    "    y_train.append(label)\n",
    "    train_images.append(Image.open(filename))\n",
    "\n",
    "for filename in glob.iglob(ruta_test + os.sep + '*.ppm'):\n",
    "    label = int(filename.split(os.sep)[-1].split('_')[0])\n",
    "    y_test.append(label)\n",
    "    test_images.append(Image.open(filename))\n",
    "    "
   ]
  },
  {
   "cell_type": "code",
   "execution_count": 7,
   "metadata": {},
   "outputs": [],
   "source": [
    "# Helper functions\n",
    "\n",
    "# Resizes an image to a defined size, and then reshapes into a 1xn array\n",
    "def process_img(img,size):\n",
    "    out = img.resize(size, Image.ANTIALIAS)\n",
    "    out = np.asarray(out)\n",
    "    out = out.reshape(1, -1)\n",
    "    return out\n",
    "\n",
    "# Applies the process_img function to the train and test sets of images, and return train and test arrays\n",
    "def formar_set(images,im_size):\n",
    "    X = [process_img(img, im_size) for img in images]\n",
    "    X = np.vstack(X)\n",
    "    return X\n"
   ]
  },
  {
   "cell_type": "code",
   "execution_count": 8,
   "metadata": {},
   "outputs": [],
   "source": [
    "# Definition of the model's hyperparameters (solver and image size), and initialization of the expected outcomes\n",
    "\n",
    "solvers = ['newton-cg', 'lbfgs', 'liblinear']\n",
    "sizes = [(17,17),(25,25),(35,35),(45,45),(55,55)]\n",
    "\n",
    "best_solver = None\n",
    "best_size = (0,0)\n",
    "best_accuracy = 0\n",
    "best_model = None\n"
   ]
  },
  {
   "cell_type": "code",
   "execution_count": 10,
   "metadata": {},
   "outputs": [
    {
     "name": "stdout",
     "output_type": "stream",
     "text": [
      "------------------------\n",
      "Solver: newton-cg\n",
      "Size: (17, 17)\n",
      "Accuracy: 0.8532818532818532\n",
      "------------------------\n",
      "Solver: newton-cg\n",
      "Size: (25, 25)\n",
      "Accuracy: 0.8687258687258688\n",
      "------------------------\n",
      "Solver: newton-cg\n",
      "Size: (35, 35)\n",
      "Accuracy: 0.8648648648648649\n",
      "------------------------\n",
      "Solver: newton-cg\n",
      "Size: (45, 45)\n",
      "Accuracy: 0.861003861003861\n",
      "------------------------\n",
      "Solver: newton-cg\n",
      "Size: (55, 55)\n",
      "Accuracy: 0.861003861003861\n",
      "------------------------\n",
      "Solver: lbfgs\n",
      "Size: (17, 17)\n",
      "Accuracy: 0.8494208494208494\n",
      "------------------------\n",
      "Solver: lbfgs\n",
      "Size: (25, 25)\n",
      "Accuracy: 0.8648648648648649\n",
      "------------------------\n",
      "Solver: lbfgs\n",
      "Size: (35, 35)\n",
      "Accuracy: 0.8764478764478765\n",
      "------------------------\n",
      "Solver: lbfgs\n",
      "Size: (45, 45)\n",
      "Accuracy: 0.8648648648648649\n",
      "------------------------\n",
      "Solver: lbfgs\n",
      "Size: (55, 55)\n",
      "Accuracy: 0.8648648648648649\n",
      "------------------------\n",
      "Solver: liblinear\n",
      "Size: (17, 17)\n",
      "Accuracy: 0.861003861003861\n",
      "------------------------\n",
      "Solver: liblinear\n",
      "Size: (25, 25)\n",
      "Accuracy: 0.8687258687258688\n",
      "------------------------\n",
      "Solver: liblinear\n",
      "Size: (35, 35)\n",
      "Accuracy: 0.8803088803088803\n",
      "------------------------\n",
      "Solver: liblinear\n",
      "Size: (45, 45)\n",
      "Accuracy: 0.8803088803088803\n",
      "------------------------\n",
      "Solver: liblinear\n",
      "Size: (55, 55)\n",
      "Accuracy: 0.8725868725868726\n"
     ]
    }
   ],
   "source": [
    "# Loop through parameters to find the best model\n",
    "\n",
    "for solver in solvers:\n",
    "    for size in sizes:\n",
    "        X_train = formar_set(train_images,size)\n",
    "        X_test = formar_set(test_images,size)\n",
    "        \n",
    "        lr = LogisticRegression(solver=solver)\n",
    "        lr.fit(X_train,y_train)\n",
    "        \n",
    "        preds = lr.predict(X_test)\n",
    "        accuracy = accuracy_score(preds,y_test)\n",
    "        \n",
    "        print('------------------------')\n",
    "        print('Solver: {0}'.format(solver))\n",
    "        print('Size: {0}'.format(size))\n",
    "        print('Accuracy: {0}'.format(accuracy))\n",
    "        \n",
    "        if accuracy > best_accuracy:\n",
    "            best_accuracy = accuracy\n",
    "            best_solver = solver\n",
    "            best_size = size\n",
    "            best_model = lr"
   ]
  },
  {
   "cell_type": "code",
   "execution_count": 11,
   "metadata": {},
   "outputs": [
    {
     "name": "stdout",
     "output_type": "stream",
     "text": [
      "liblinear\n",
      "(35, 35)\n",
      "0.8803088803088803\n"
     ]
    }
   ],
   "source": [
    "# Print the best parameters found\n",
    "\n",
    "print(best_solver)\n",
    "print(best_size)\n",
    "print(best_accuracy)\n",
    "\n",
    "# liblinear\n",
    "# (35, 35)\n",
    "# 0.8803088803088803"
   ]
  },
  {
   "cell_type": "code",
   "execution_count": 12,
   "metadata": {},
   "outputs": [],
   "source": [
    "# Save the best model\n",
    "\n",
    "model_location = os.sep.join([current_dir,'..','models','model1','model1.pkl'])\n",
    "\n",
    "with open(model_location, 'wb') as fid:\n",
    "    pickle.dump(best_model, fid)  \n"
   ]
  },
  {
   "cell_type": "code",
   "execution_count": 14,
   "metadata": {},
   "outputs": [
    {
     "name": "stdout",
     "output_type": "stream",
     "text": [
      "[42]\n",
      "42\n"
     ]
    }
   ],
   "source": [
    "# Load the model and predict\n",
    "X_test = formar_set(test_images,best_size)\n",
    "x = X_test[258]\n",
    "x = x.reshape(1,-1)\n",
    "model_location = os.sep.join([current_dir,'..','models','model1','model1.pkl'])\n",
    "\n",
    "with open(model_location, 'rb') as fp:\n",
    "     model = pickle.load(fp)\n",
    "\n",
    "print(model.predict(x))\n",
    "print(y_test[258])\n",
    "    "
   ]
  }
 ],
 "metadata": {
  "kernelspec": {
   "display_name": "Python 3",
   "language": "python",
   "name": "python3"
  },
  "language_info": {
   "codemirror_mode": {
    "name": "ipython",
    "version": 3
   },
   "file_extension": ".py",
   "mimetype": "text/x-python",
   "name": "python",
   "nbconvert_exporter": "python",
   "pygments_lexer": "ipython3",
   "version": "3.6.5"
  }
 },
 "nbformat": 4,
 "nbformat_minor": 2
}
